{
 "cells": [
  {
   "cell_type": "code",
   "execution_count": 2,
   "metadata": {},
   "outputs": [
    {
     "name": "stdout",
     "output_type": "stream",
     "text": [
      "E[s^2]: 0.00012809004910431412\n",
      "E[s]: 0.0001131768744507084\n"
     ]
    }
   ],
   "source": [
    "import numpy as np\n",
    "from scipy.stats import norm\n",
    "import matplotlib.pyplot as plt\n",
    "\n",
    "total_s2 = 0\n",
    "total_s = 0\n",
    "for i in range(10000):\n",
    "    choice = np.random.normal(0, 1, 5)\n",
    "    s2 = np.var(choice, ddof=1)\n",
    "    s = np.sqrt(s2)\n",
    "    total_s2 += s2\n",
    "    total_s += s\n",
    "\n",
    "print(\"E[s^2]: {0}\".format(s2/10000))\n",
    "print(\"E[s]: {0}\".format(s/10000))"
   ]
  },
  {
   "cell_type": "code",
   "execution_count": null,
   "metadata": {},
   "outputs": [],
   "source": []
  },
  {
   "cell_type": "code",
   "execution_count": null,
   "metadata": {},
   "outputs": [],
   "source": []
  }
 ],
 "metadata": {
  "kernelspec": {
   "display_name": "Python 3",
   "language": "python",
   "name": "python3"
  },
  "language_info": {
   "codemirror_mode": {
    "name": "ipython",
    "version": 3
   },
   "file_extension": ".py",
   "mimetype": "text/x-python",
   "name": "python",
   "nbconvert_exporter": "python",
   "pygments_lexer": "ipython3",
   "version": "3.7.4"
  }
 },
 "nbformat": 4,
 "nbformat_minor": 2
}
